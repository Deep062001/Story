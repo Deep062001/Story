{
  "nbformat": 4,
  "nbformat_minor": 0,
  "metadata": {
    "colab": {
      "provenance": [],
      "authorship_tag": "ABX9TyO0mj6JpalEKOR9mDoMviE9",
      "include_colab_link": true
    },
    "kernelspec": {
      "name": "python3",
      "display_name": "Python 3"
    },
    "language_info": {
      "name": "python"
    }
  },
  "cells": [
    {
      "cell_type": "markdown",
      "metadata": {
        "id": "view-in-github",
        "colab_type": "text"
      },
      "source": [
        "<a href=\"https://colab.research.google.com/github/Deep062001/Story/blob/master/exp1.ipynb\" target=\"_parent\"><img src=\"https://colab.research.google.com/assets/colab-badge.svg\" alt=\"Open In Colab\"/></a>"
      ]
    },
    {
      "cell_type": "markdown",
      "source": [
        "**Numpy Library**"
      ],
      "metadata": {
        "id": "RwRMZi8r-0X8"
      }
    },
    {
      "cell_type": "code",
      "execution_count": 4,
      "metadata": {
        "colab": {
          "base_uri": "https://localhost:8080/"
        },
        "id": "L7Wr2v9r-wT1",
        "outputId": "95de1089-20bd-4571-c63f-01e3a36732bc"
      },
      "outputs": [
        {
          "output_type": "stream",
          "name": "stdout",
          "text": [
            "89.76923076923077\n"
          ]
        }
      ],
      "source": [
        "import numpy\n",
        "\n",
        "speed = [99,86,87,88,111,86,103,87,94,78,77,85,86]\n",
        "\n",
        "x = numpy.mean(speed)\n",
        "\n",
        "print(x)"
      ]
    },
    {
      "cell_type": "code",
      "source": [
        "x = numpy.median(speed)\n",
        "\n",
        "print(x)"
      ],
      "metadata": {
        "colab": {
          "base_uri": "https://localhost:8080/"
        },
        "id": "KrXtaF6E-6su",
        "outputId": "cefb1c47-d7f3-4a9b-deda-9be926db48d9"
      },
      "execution_count": 5,
      "outputs": [
        {
          "output_type": "stream",
          "name": "stdout",
          "text": [
            "87.0\n"
          ]
        }
      ]
    },
    {
      "cell_type": "code",
      "source": [
        "from scipy import stats\n",
        "\n",
        "x = stats.mode(speed)\n"
      ],
      "metadata": {
        "id": "RspBvX3G_Bst"
      },
      "execution_count": 7,
      "outputs": []
    },
    {
      "cell_type": "markdown",
      "source": [
        "**Data Distribution**"
      ],
      "metadata": {
        "id": "PBVYR6TZ_fxL"
      }
    },
    {
      "cell_type": "code",
      "source": [
        "x = numpy.random.uniform(0.0, 5.0, 250)\n",
        "\n",
        "print(x)"
      ],
      "metadata": {
        "colab": {
          "base_uri": "https://localhost:8080/"
        },
        "id": "wdLgOS5N_en9",
        "outputId": "9a3f5964-457f-4c2d-9c7c-a9aa3ee3289e"
      },
      "execution_count": 8,
      "outputs": [
        {
          "output_type": "stream",
          "name": "stdout",
          "text": [
            "[4.09340573 1.41581059 3.73099721 4.82079699 0.82093237 4.92675011\n",
            " 4.5097648  0.20821822 4.97718301 2.88361678 2.25972319 2.99551193\n",
            " 0.97471574 0.4305883  3.60299516 1.54590377 0.7326092  0.62301235\n",
            " 2.96049517 3.38042591 2.3330277  4.959572   4.214884   1.34970623\n",
            " 2.61723682 4.29278952 1.62810828 4.95320519 4.17315977 1.55889647\n",
            " 3.8072807  1.78942316 0.24322825 0.64500445 1.06760428 3.63036514\n",
            " 0.62194799 2.67339883 0.96674105 4.79671353 0.66120458 0.80988374\n",
            " 3.25549283 0.68017447 1.4937548  0.57028926 0.00801787 0.67677966\n",
            " 3.35423193 4.93463248 4.04452244 4.22419092 2.49894384 1.17602782\n",
            " 1.4289352  4.39585588 1.570988   0.09229737 0.65816823 3.7181971\n",
            " 4.94076534 2.07274365 0.60496323 4.21559387 3.03960423 2.4084795\n",
            " 3.64724672 2.43680649 1.65434458 0.30623019 1.20844238 4.44082116\n",
            " 3.22040114 0.14776595 4.25774171 0.7771544  1.48401543 3.27677731\n",
            " 1.51139848 3.70328758 0.80239095 3.81570455 1.07880064 4.94505614\n",
            " 0.25377455 2.00718897 1.22059247 1.38366692 1.00956245 3.57052738\n",
            " 1.32412175 1.22492562 2.72730375 1.1147671  4.43083007 4.99023323\n",
            " 3.80232791 2.53487198 3.573172   2.39077868 2.47710948 1.76966244\n",
            " 4.47758255 4.79767881 4.27668722 3.34828214 2.69036879 3.96361849\n",
            " 4.04256294 0.60304946 1.3081133  2.5380919  0.95239803 1.32866218\n",
            " 3.32913464 4.36560952 1.80905356 2.07001434 1.45436043 4.22494345\n",
            " 3.37798212 0.75522056 4.46999618 3.08804109 0.99056606 3.31814616\n",
            " 0.66643303 3.91871616 1.20332785 1.60432606 1.18386382 2.4369606\n",
            " 2.97532516 1.53659208 4.22748338 4.46033816 0.80401225 2.16222469\n",
            " 1.27919276 2.32854278 3.76524831 1.09883961 2.26741234 4.25263695\n",
            " 2.26780169 4.8174708  2.03448991 3.70905714 2.55894001 1.02963396\n",
            " 2.03846324 1.4683162  1.76474216 4.30426213 2.75227956 3.27751807\n",
            " 4.89251618 0.08025059 4.51677018 1.21980463 4.53915548 4.09883386\n",
            " 2.47327363 2.88822049 0.29017669 2.77168208 1.59216012 0.85121485\n",
            " 4.49219687 2.71520756 0.36942968 2.23215889 4.97276157 1.69183155\n",
            " 2.78628836 1.71102732 1.47700234 0.22363665 3.31402601 1.35774424\n",
            " 0.78685337 4.90913915 3.95896092 2.60170091 0.60621324 1.48951017\n",
            " 1.92647163 4.93678001 0.66935064 0.6161621  2.2663159  4.78318481\n",
            " 0.12931627 4.82881645 0.2922128  3.01497576 1.79302336 4.22880923\n",
            " 1.35438369 1.9935912  0.28084768 4.24315494 2.55080298 1.42294949\n",
            " 4.23977676 1.49839126 0.94699491 1.10521433 4.47639819 4.36755153\n",
            " 0.81405644 2.48508242 1.96824714 2.23157609 3.25623324 3.15960584\n",
            " 0.44070944 1.50222322 3.70638273 3.82812405 1.28282733 2.20245158\n",
            " 2.34042591 0.36842343 1.73093841 0.40806718 2.53128917 1.67211801\n",
            " 4.15962139 2.81432516 1.2568946  2.86587814 0.15525389 1.27955865\n",
            " 1.60149056 4.08098493 0.06730327 1.44158227 3.63630163 2.93562655\n",
            " 0.86375987 3.55213974 0.53302461 2.38959699 2.32073877 3.94092084\n",
            " 0.63309586 1.83049714 1.55328644 1.02232188]\n"
          ]
        }
      ]
    },
    {
      "cell_type": "markdown",
      "source": [
        "**Data Plot**"
      ],
      "metadata": {
        "id": "2Cwl7Oma_qab"
      }
    },
    {
      "cell_type": "code",
      "source": [
        "import matplotlib.pyplot as plt\n",
        "\n",
        "x = numpy.random.uniform(0.0, 5.0, 250)\n",
        "\n",
        "plt.hist(x, 5)\n",
        "plt.show()"
      ],
      "metadata": {
        "colab": {
          "base_uri": "https://localhost:8080/",
          "height": 265
        },
        "id": "UDHETeva_pwC",
        "outputId": "a2443416-e61e-415d-e8df-a9cdfe11284a"
      },
      "execution_count": 9,
      "outputs": [
        {
          "output_type": "display_data",
          "data": {
            "text/plain": [
              "<Figure size 432x288 with 1 Axes>"
            ],
            "image/png": "[encoded data removed]"
          },
          "metadata": {
            "needs_background": "light"
          }
        }
      ]
    }
  ]
}